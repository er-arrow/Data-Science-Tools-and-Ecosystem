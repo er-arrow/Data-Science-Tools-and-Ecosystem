{
 "cells": [
  {
   "cell_type": "markdown",
   "id": "7f0ce1ab-21d3-4eb0-bf3d-15a075de8983",
   "metadata": {},
   "source": [
    "### Data Science Tools and Ecosystem\n"
   ]
  },
  {
   "cell_type": "markdown",
   "id": "e7618802-003f-44a7-a7ee-d05de43871e0",
   "metadata": {},
   "source": [
    "##### In this notebook, Data Science Tools and Ecosystem summarized."
   ]
  },
  {
   "cell_type": "markdown",
   "id": "09fadb45-64c8-42ae-a140-f7c5b302139b",
   "metadata": {},
   "source": [
    "Some of the popular language that data scientists use are:\n",
    "1. Python\n",
    "2. R\n",
    "3. SQL\n",
    "4. C++\n",
    "5. Java etc..,"
   ]
  },
  {
   "cell_type": "markdown",
   "id": "d242e149-3807-495e-8b41-ee9132a8dcd2",
   "metadata": {},
   "source": [
    "#### Some of the commonly used libraries used by Data Scientists include:\n",
    "1. TensorFlow.\n",
    "2. NumPy.\n",
    "3. SciPy.\n",
    "4. Pandas.\n",
    "5. Matplotlib.\n",
    "6. Keras.\n",
    "7. SciKit-Learn.\n",
    "8. PyTorch. etc..;"
   ]
  },
  {
   "cell_type": "markdown",
   "id": "3501f6cf-1cba-440b-a417-8ab0ff288475",
   "metadata": {},
   "source": [
    "|Data Science Tools|\n",
    "|---|\n",
    "|SAS|\n",
    "|Apache Hadoop|\n",
    "|TensorFlow|"
   ]
  },
  {
   "cell_type": "markdown",
   "id": "738cacd0-f84c-4e42-8446-157cca1fb618",
   "metadata": {},
   "source": [
    "### Below are a few examples of evaluating arithmetic expressions in Python."
   ]
  },
  {
   "cell_type": "code",
   "execution_count": 3,
   "id": "e795fc34-307f-4688-a850-fb316a4ad272",
   "metadata": {},
   "outputs": [
    {
     "data": {
      "text/plain": [
       "17"
      ]
     },
     "execution_count": 3,
     "metadata": {},
     "output_type": "execute_result"
    }
   ],
   "source": [
    "#this is a common arithmetic example to multiply and then add integers\n",
    "(3*4)+5"
   ]
  },
  {
   "cell_type": "code",
   "execution_count": 4,
   "id": "b0fe97dd-e988-455e-a34f-3b63b97c052b",
   "metadata": {},
   "outputs": [
    {
     "data": {
      "text/plain": [
       "3.3333333333333335"
      ]
     },
     "execution_count": 4,
     "metadata": {},
     "output_type": "execute_result"
    }
   ],
   "source": [
    "#this will convert 200 minutes to hours by diving by 60\n",
    "200/60"
   ]
  },
  {
   "cell_type": "markdown",
   "id": "c30f96da-42bc-46c5-8b2e-d9048495ff5d",
   "metadata": {},
   "source": [
    "__Objective__\n",
    "* List popular languages for Data Science\n",
    "* List popular libraries for Data Science\n",
    "* List of Well Known Data Science Tools\n",
    "* How to Provide comments in the cell              "
   ]
  },
  {
   "cell_type": "markdown",
   "id": "13e68979-11c3-4913-bd6d-9f48dcb21567",
   "metadata": {},
   "source": [
    "## Author\n",
    "Gourav Kumar"
   ]
  }
 ],
 "metadata": {
  "kernelspec": {
   "display_name": "Python 3 (ipykernel)",
   "language": "python",
   "name": "python3"
  },
  "language_info": {
   "codemirror_mode": {
    "name": "ipython",
    "version": 3
   },
   "file_extension": ".py",
   "mimetype": "text/x-python",
   "name": "python",
   "nbconvert_exporter": "python",
   "pygments_lexer": "ipython3",
   "version": "3.11.9"
  }
 },
 "nbformat": 4,
 "nbformat_minor": 5
}
